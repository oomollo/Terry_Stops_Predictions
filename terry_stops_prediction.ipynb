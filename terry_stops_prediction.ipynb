{
 "cells": [
  {
   "cell_type": "markdown",
   "id": "e5f0b310",
   "metadata": {},
   "source": [
    "## Predicting Arrest Outcomes in Terry Stops: A Data-Driven Analysis \n",
    "###  Business Understanding\n",
    "\n",
    "#### Overview\n",
    "Arrest decisions following Terry Stops are critical moments in policing, with significant legal, social, and ethical implications. While such stops are based on \"reasonable suspicion,\" concerns have been raised about potential disparities in arrest outcomes across race and gender. In this project, I aim to use historical stop data to predict whether an arrest is likely to occur after a Terry Stop. By identifying key patterns and risk factors, law enforcement agencies can gain deeper insights into their decision-making processes, assess potential biases, and take data-informed steps toward fairer and more accountable policing practices.\n",
    "\n",
    "#### Business Problem\n",
    "\n",
    "Discretionary arrest decisions during Terry Stops have drawn increasing scrutiny due to concerns about potential bias and lack of transparency. Law enforcement agencies face challenges in understanding the key factors influencing whether an arrest is made, particularly when outcomes may disproportionately affect certain demographic groups. Without data-driven insights, it becomes difficult to ensure fair and accountable policing practices.\n",
    "\n",
    "To address this, I aim to:\n",
    "\n",
    "1. Predict the likelihood of an arrest following a Terry Stop.\n",
    "\n",
    "2. Identify the most influential factors contributing to arrest decisions.\n",
    "\n",
    "3. Provide actionable insights to help law enforcement evaluate patterns, detect disparities, and guide equitable policing interventions."
   ]
  },
  {
   "cell_type": "markdown",
   "id": "320f014e",
   "metadata": {},
   "source": [
    "## Data "
   ]
  },
  {
   "cell_type": "markdown",
   "id": "ac213b26",
   "metadata": {},
   "source": [
    "### Data Understanding\n",
    "\n",
    "The dataset being used for this project was obtained from City of Seattle Open data Portal. Here, I am going to review the dataset to assess the structure and characteristics of the data.\n"
   ]
  },
  {
   "cell_type": "markdown",
   "id": "3c4c2984",
   "metadata": {},
   "source": [
    "1. Loading Data Set"
   ]
  },
  {
   "cell_type": "code",
   "execution_count": 1,
   "id": "245baa53",
   "metadata": {},
   "outputs": [],
   "source": [
    "# Importing Relevant Libraries\n",
    "\n",
    "import pandas as pd\n",
    "import numpy as np\n",
    "import matplotlib.pyplot as plt\n",
    "import seaborn as sns\n",
    "from scipy.stats import chi2_contingency\n",
    "from sklearn.model_selection import train_test_split\n",
    "from sklearn.preprocessing import StandardScaler, OneHotEncoder,LabelEncoder\n",
    "from sklearn.linear_model import LogisticRegression\n",
    "from sklearn.ensemble import RandomForestClassifier\n",
    "from imblearn.over_sampling import SMOTE\n",
    "from sklearn.metrics import classification_report, roc_auc_score, roc_curve, accuracy_score\n"
   ]
  },
  {
   "cell_type": "code",
   "execution_count": 3,
   "id": "adf0d4fd",
   "metadata": {},
   "outputs": [],
   "source": [
    "# Loading Data\n",
    "df= pd.read_csv('Terry_Stops_20250719.csv')"
   ]
  },
  {
   "cell_type": "code",
   "execution_count": 4,
   "id": "327cbe70",
   "metadata": {},
   "outputs": [
    {
     "data": {
      "application/vnd.microsoft.datawrangler.viewer.v0+json": {
       "columns": [
        {
         "name": "index",
         "rawType": "int64",
         "type": "integer"
        },
        {
         "name": "Subject Age Group",
         "rawType": "object",
         "type": "string"
        },
        {
         "name": "Subject ID",
         "rawType": "int64",
         "type": "integer"
        },
        {
         "name": "GO / SC Num",
         "rawType": "float64",
         "type": "float"
        },
        {
         "name": "Terry Stop ID",
         "rawType": "int64",
         "type": "integer"
        },
        {
         "name": "Stop Resolution",
         "rawType": "object",
         "type": "string"
        },
        {
         "name": "Weapon Type",
         "rawType": "object",
         "type": "string"
        },
        {
         "name": "Officer ID",
         "rawType": "object",
         "type": "string"
        },
        {
         "name": "Officer YOB",
         "rawType": "int64",
         "type": "integer"
        },
        {
         "name": "Officer Gender",
         "rawType": "object",
         "type": "string"
        },
        {
         "name": "Officer Race",
         "rawType": "object",
         "type": "string"
        },
        {
         "name": "Subject Perceived Race",
         "rawType": "object",
         "type": "string"
        },
        {
         "name": "Subject Perceived Gender",
         "rawType": "object",
         "type": "string"
        },
        {
         "name": "Reported Date",
         "rawType": "object",
         "type": "string"
        },
        {
         "name": "Reported Time",
         "rawType": "object",
         "type": "string"
        },
        {
         "name": "Initial Call Type",
         "rawType": "object",
         "type": "string"
        },
        {
         "name": "Final Call Type",
         "rawType": "object",
         "type": "string"
        },
        {
         "name": "Call Type",
         "rawType": "object",
         "type": "string"
        },
        {
         "name": "Officer Squad",
         "rawType": "object",
         "type": "string"
        },
        {
         "name": "Arrest Flag",
         "rawType": "object",
         "type": "string"
        },
        {
         "name": "Frisk Flag",
         "rawType": "object",
         "type": "string"
        },
        {
         "name": "Precinct",
         "rawType": "object",
         "type": "string"
        },
        {
         "name": "Sector",
         "rawType": "object",
         "type": "string"
        },
        {
         "name": "Beat",
         "rawType": "object",
         "type": "string"
        }
       ],
       "ref": "adfb1346-46e4-42e9-b91f-de308f41129d",
       "rows": [
        [
         "0",
         "Jan-17",
         "-1",
         "20200000000000.0",
         "28020",
         "Referred for Prosecution",
         "Lethal Cutting Instrument",
         "4585",
         "1955",
         "Male",
         "Hispanic",
         "Black or African American",
         "Female",
         "2015-03-15T00:00:00Z",
         "10:00.0",
         "-",
         "-",
         "-",
         null,
         "N",
         "Y",
         "East",
         "G",
         "G2"
        ],
        [
         "1",
         "36 - 45",
         "-1",
         "20200000000000.0",
         "28092",
         "Field Contact",
         "None",
         "7634",
         "1977",
         "Male",
         "White",
         "Multi-Racial",
         "Male",
         "2015-03-16T00:00:00Z",
         "49:00.0",
         "-",
         "-",
         "-",
         null,
         "N",
         "N",
         "-",
         "-",
         "-"
        ],
        [
         "2",
         "18 - 25",
         "-1",
         "20100000000000.0",
         "305901",
         "Arrest",
         "None",
         "7661",
         "1984",
         "Male",
         "White",
         "Black or African American",
         "Male",
         "2015-03-16T00:00:00Z",
         "13:00.0",
         "-",
         "-",
         "-",
         null,
         "N",
         "N",
         "West",
         "M",
         "M3"
        ],
        [
         "3",
         "18 - 25",
         "-1",
         "20200000000000.0",
         "28093",
         "Field Contact",
         "None",
         "7634",
         "1977",
         "Male",
         "White",
         "White",
         "Male",
         "2015-03-16T00:00:00Z",
         "55:00.0",
         "-",
         "-",
         "-",
         null,
         "N",
         "N",
         "-",
         "-",
         "-"
        ],
        [
         "4",
         "26 - 35",
         "-1",
         "20200000000000.0",
         "28755",
         "Offense Report",
         "None",
         "7429",
         "1984",
         "Male",
         "White",
         "Black or African American",
         "Male",
         "2015-03-17T00:00:00Z",
         "08:00.0",
         "THREATS (INCLS IN-PERSON/BY PHONE/IN WRITING)",
         "DISTURBANCE - OTHER",
         "911",
         null,
         "N",
         "N",
         "East",
         "G",
         "G3"
        ]
       ],
       "shape": {
        "columns": 23,
        "rows": 5
       }
      },
      "text/html": [
       "<div>\n",
       "<style scoped>\n",
       "    .dataframe tbody tr th:only-of-type {\n",
       "        vertical-align: middle;\n",
       "    }\n",
       "\n",
       "    .dataframe tbody tr th {\n",
       "        vertical-align: top;\n",
       "    }\n",
       "\n",
       "    .dataframe thead th {\n",
       "        text-align: right;\n",
       "    }\n",
       "</style>\n",
       "<table border=\"1\" class=\"dataframe\">\n",
       "  <thead>\n",
       "    <tr style=\"text-align: right;\">\n",
       "      <th></th>\n",
       "      <th>Subject Age Group</th>\n",
       "      <th>Subject ID</th>\n",
       "      <th>GO / SC Num</th>\n",
       "      <th>Terry Stop ID</th>\n",
       "      <th>Stop Resolution</th>\n",
       "      <th>Weapon Type</th>\n",
       "      <th>Officer ID</th>\n",
       "      <th>Officer YOB</th>\n",
       "      <th>Officer Gender</th>\n",
       "      <th>Officer Race</th>\n",
       "      <th>...</th>\n",
       "      <th>Reported Time</th>\n",
       "      <th>Initial Call Type</th>\n",
       "      <th>Final Call Type</th>\n",
       "      <th>Call Type</th>\n",
       "      <th>Officer Squad</th>\n",
       "      <th>Arrest Flag</th>\n",
       "      <th>Frisk Flag</th>\n",
       "      <th>Precinct</th>\n",
       "      <th>Sector</th>\n",
       "      <th>Beat</th>\n",
       "    </tr>\n",
       "  </thead>\n",
       "  <tbody>\n",
       "    <tr>\n",
       "      <th>0</th>\n",
       "      <td>Jan-17</td>\n",
       "      <td>-1</td>\n",
       "      <td>2.020000e+13</td>\n",
       "      <td>28020</td>\n",
       "      <td>Referred for Prosecution</td>\n",
       "      <td>Lethal Cutting Instrument</td>\n",
       "      <td>4585</td>\n",
       "      <td>1955</td>\n",
       "      <td>Male</td>\n",
       "      <td>Hispanic</td>\n",
       "      <td>...</td>\n",
       "      <td>10:00.0</td>\n",
       "      <td>-</td>\n",
       "      <td>-</td>\n",
       "      <td>-</td>\n",
       "      <td>NaN</td>\n",
       "      <td>N</td>\n",
       "      <td>Y</td>\n",
       "      <td>East</td>\n",
       "      <td>G</td>\n",
       "      <td>G2</td>\n",
       "    </tr>\n",
       "    <tr>\n",
       "      <th>1</th>\n",
       "      <td>36 - 45</td>\n",
       "      <td>-1</td>\n",
       "      <td>2.020000e+13</td>\n",
       "      <td>28092</td>\n",
       "      <td>Field Contact</td>\n",
       "      <td>None</td>\n",
       "      <td>7634</td>\n",
       "      <td>1977</td>\n",
       "      <td>Male</td>\n",
       "      <td>White</td>\n",
       "      <td>...</td>\n",
       "      <td>49:00.0</td>\n",
       "      <td>-</td>\n",
       "      <td>-</td>\n",
       "      <td>-</td>\n",
       "      <td>NaN</td>\n",
       "      <td>N</td>\n",
       "      <td>N</td>\n",
       "      <td>-</td>\n",
       "      <td>-</td>\n",
       "      <td>-</td>\n",
       "    </tr>\n",
       "    <tr>\n",
       "      <th>2</th>\n",
       "      <td>18 - 25</td>\n",
       "      <td>-1</td>\n",
       "      <td>2.010000e+13</td>\n",
       "      <td>305901</td>\n",
       "      <td>Arrest</td>\n",
       "      <td>None</td>\n",
       "      <td>7661</td>\n",
       "      <td>1984</td>\n",
       "      <td>Male</td>\n",
       "      <td>White</td>\n",
       "      <td>...</td>\n",
       "      <td>13:00.0</td>\n",
       "      <td>-</td>\n",
       "      <td>-</td>\n",
       "      <td>-</td>\n",
       "      <td>NaN</td>\n",
       "      <td>N</td>\n",
       "      <td>N</td>\n",
       "      <td>West</td>\n",
       "      <td>M</td>\n",
       "      <td>M3</td>\n",
       "    </tr>\n",
       "    <tr>\n",
       "      <th>3</th>\n",
       "      <td>18 - 25</td>\n",
       "      <td>-1</td>\n",
       "      <td>2.020000e+13</td>\n",
       "      <td>28093</td>\n",
       "      <td>Field Contact</td>\n",
       "      <td>None</td>\n",
       "      <td>7634</td>\n",
       "      <td>1977</td>\n",
       "      <td>Male</td>\n",
       "      <td>White</td>\n",
       "      <td>...</td>\n",
       "      <td>55:00.0</td>\n",
       "      <td>-</td>\n",
       "      <td>-</td>\n",
       "      <td>-</td>\n",
       "      <td>NaN</td>\n",
       "      <td>N</td>\n",
       "      <td>N</td>\n",
       "      <td>-</td>\n",
       "      <td>-</td>\n",
       "      <td>-</td>\n",
       "    </tr>\n",
       "    <tr>\n",
       "      <th>4</th>\n",
       "      <td>26 - 35</td>\n",
       "      <td>-1</td>\n",
       "      <td>2.020000e+13</td>\n",
       "      <td>28755</td>\n",
       "      <td>Offense Report</td>\n",
       "      <td>None</td>\n",
       "      <td>7429</td>\n",
       "      <td>1984</td>\n",
       "      <td>Male</td>\n",
       "      <td>White</td>\n",
       "      <td>...</td>\n",
       "      <td>08:00.0</td>\n",
       "      <td>THREATS (INCLS IN-PERSON/BY PHONE/IN WRITING)</td>\n",
       "      <td>DISTURBANCE - OTHER</td>\n",
       "      <td>911</td>\n",
       "      <td>NaN</td>\n",
       "      <td>N</td>\n",
       "      <td>N</td>\n",
       "      <td>East</td>\n",
       "      <td>G</td>\n",
       "      <td>G3</td>\n",
       "    </tr>\n",
       "  </tbody>\n",
       "</table>\n",
       "<p>5 rows × 23 columns</p>\n",
       "</div>"
      ],
      "text/plain": [
       "  Subject Age Group  Subject ID   GO / SC Num  Terry Stop ID  \\\n",
       "0            Jan-17          -1  2.020000e+13          28020   \n",
       "1           36 - 45          -1  2.020000e+13          28092   \n",
       "2           18 - 25          -1  2.010000e+13         305901   \n",
       "3           18 - 25          -1  2.020000e+13          28093   \n",
       "4           26 - 35          -1  2.020000e+13          28755   \n",
       "\n",
       "            Stop Resolution                Weapon Type Officer ID  \\\n",
       "0  Referred for Prosecution  Lethal Cutting Instrument       4585   \n",
       "1             Field Contact                       None       7634   \n",
       "2                    Arrest                       None       7661   \n",
       "3             Field Contact                       None       7634   \n",
       "4            Offense Report                       None       7429   \n",
       "\n",
       "   Officer YOB Officer Gender Officer Race  ... Reported Time  \\\n",
       "0         1955           Male     Hispanic  ...       10:00.0   \n",
       "1         1977           Male        White  ...       49:00.0   \n",
       "2         1984           Male        White  ...       13:00.0   \n",
       "3         1977           Male        White  ...       55:00.0   \n",
       "4         1984           Male        White  ...       08:00.0   \n",
       "\n",
       "                               Initial Call Type      Final Call Type  \\\n",
       "0                                              -                    -   \n",
       "1                                              -                    -   \n",
       "2                                              -                    -   \n",
       "3                                              -                    -   \n",
       "4  THREATS (INCLS IN-PERSON/BY PHONE/IN WRITING)  DISTURBANCE - OTHER   \n",
       "\n",
       "  Call Type Officer Squad Arrest Flag Frisk Flag Precinct Sector Beat  \n",
       "0         -           NaN           N          Y     East      G   G2  \n",
       "1         -           NaN           N          N        -      -    -  \n",
       "2         -           NaN           N          N     West      M   M3  \n",
       "3         -           NaN           N          N        -      -    -  \n",
       "4       911           NaN           N          N     East      G   G3  \n",
       "\n",
       "[5 rows x 23 columns]"
      ]
     },
     "execution_count": 4,
     "metadata": {},
     "output_type": "execute_result"
    }
   ],
   "source": [
    "# Display the first 5 rows\n",
    "df.head()"
   ]
  },
  {
   "cell_type": "code",
   "execution_count": 5,
   "id": "a1b24c4b",
   "metadata": {},
   "outputs": [
    {
     "name": "stdout",
     "output_type": "stream",
     "text": [
      "<class 'pandas.core.frame.DataFrame'>\n",
      "RangeIndex: 64186 entries, 0 to 64185\n",
      "Data columns (total 23 columns):\n",
      " #   Column                    Non-Null Count  Dtype  \n",
      "---  ------                    --------------  -----  \n",
      " 0   Subject Age Group         64186 non-null  object \n",
      " 1   Subject ID                64186 non-null  int64  \n",
      " 2   GO / SC Num               64186 non-null  float64\n",
      " 3   Terry Stop ID             64186 non-null  int64  \n",
      " 4   Stop Resolution           64186 non-null  object \n",
      " 5   Weapon Type               64186 non-null  object \n",
      " 6   Officer ID                64186 non-null  object \n",
      " 7   Officer YOB               64186 non-null  int64  \n",
      " 8   Officer Gender            64186 non-null  object \n",
      " 9   Officer Race              64186 non-null  object \n",
      " 10  Subject Perceived Race    64186 non-null  object \n",
      " 11  Subject Perceived Gender  64186 non-null  object \n",
      " 12  Reported Date             64186 non-null  object \n",
      " 13  Reported Time             64186 non-null  object \n",
      " 14  Initial Call Type         64186 non-null  object \n",
      " 15  Final Call Type           64186 non-null  object \n",
      " 16  Call Type                 64186 non-null  object \n",
      " 17  Officer Squad             63623 non-null  object \n",
      " 18  Arrest Flag               64186 non-null  object \n",
      " 19  Frisk Flag                64186 non-null  object \n",
      " 20  Precinct                  64186 non-null  object \n",
      " 21  Sector                    64186 non-null  object \n",
      " 22  Beat                      64186 non-null  object \n",
      "dtypes: float64(1), int64(3), object(19)\n",
      "memory usage: 11.3+ MB\n"
     ]
    }
   ],
   "source": [
    "# ,Info()To get the general information about the data and each column\n",
    "df.info()"
   ]
  },
  {
   "cell_type": "markdown",
   "id": "76aa3a41",
   "metadata": {},
   "source": [
    "2. Data Preparation\n",
    "\n",
    "    2.1 Data Cleaning\n",
    "\n"
   ]
  },
  {
   "cell_type": "code",
   "execution_count": 6,
   "id": "9ad91c07",
   "metadata": {},
   "outputs": [],
   "source": [
    "# Drop Columns irrelevant Columns\n",
    "df = df.drop(columns=[\n",
    "    'Subject ID', 'Terry Stop ID', 'GO / SC Num', 'Officer ID', 'Reported Time','Stop Resolution',\n",
    "    'Officer Squad',\n",
    "    'Final Call Type',\n",
    "    'Call Type',\n",
    "    'Precinct',\n",
    "    'Sector',\n",
    "    'Beat',\n",
    "])"
   ]
  },
  {
   "cell_type": "code",
   "execution_count": 7,
   "id": "3e421c07",
   "metadata": {},
   "outputs": [
    {
     "data": {
      "application/vnd.microsoft.datawrangler.viewer.v0+json": {
       "columns": [
        {
         "name": "index",
         "rawType": "int64",
         "type": "integer"
        },
        {
         "name": "Subject Age Group",
         "rawType": "object",
         "type": "string"
        },
        {
         "name": "Weapon Type",
         "rawType": "object",
         "type": "string"
        },
        {
         "name": "Officer YOB",
         "rawType": "int64",
         "type": "integer"
        },
        {
         "name": "Officer Gender",
         "rawType": "object",
         "type": "string"
        },
        {
         "name": "Officer Race",
         "rawType": "object",
         "type": "string"
        },
        {
         "name": "Subject Perceived Race",
         "rawType": "object",
         "type": "string"
        },
        {
         "name": "Subject Perceived Gender",
         "rawType": "object",
         "type": "string"
        },
        {
         "name": "Reported Date",
         "rawType": "object",
         "type": "string"
        },
        {
         "name": "Initial Call Type",
         "rawType": "object",
         "type": "string"
        },
        {
         "name": "Arrest Flag",
         "rawType": "object",
         "type": "string"
        },
        {
         "name": "Frisk Flag",
         "rawType": "object",
         "type": "string"
        }
       ],
       "ref": "d08ce2a2-50b9-4496-b0b6-f56699d242f4",
       "rows": [
        [
         "0",
         "Jan-17",
         "Lethal Cutting Instrument",
         "1955",
         "Male",
         "Hispanic",
         "Black or African American",
         "Female",
         "2015-03-15T00:00:00Z",
         "-",
         "N",
         "Y"
        ],
        [
         "1",
         "36 - 45",
         "None",
         "1977",
         "Male",
         "White",
         "Multi-Racial",
         "Male",
         "2015-03-16T00:00:00Z",
         "-",
         "N",
         "N"
        ],
        [
         "2",
         "18 - 25",
         "None",
         "1984",
         "Male",
         "White",
         "Black or African American",
         "Male",
         "2015-03-16T00:00:00Z",
         "-",
         "N",
         "N"
        ],
        [
         "3",
         "18 - 25",
         "None",
         "1977",
         "Male",
         "White",
         "White",
         "Male",
         "2015-03-16T00:00:00Z",
         "-",
         "N",
         "N"
        ],
        [
         "4",
         "26 - 35",
         "None",
         "1984",
         "Male",
         "White",
         "Black or African American",
         "Male",
         "2015-03-17T00:00:00Z",
         "THREATS (INCLS IN-PERSON/BY PHONE/IN WRITING)",
         "N",
         "N"
        ],
        [
         "5",
         "26 - 35",
         "None",
         "1977",
         "Male",
         "White",
         "White",
         "Male",
         "2015-03-17T00:00:00Z",
         "-",
         "N",
         "N"
        ],
        [
         "6",
         "26 - 35",
         "None",
         "1984",
         "Male",
         "White",
         "White",
         "Male",
         "2015-03-17T00:00:00Z",
         "THREATS (INCLS IN-PERSON/BY PHONE/IN WRITING)",
         "N",
         "N"
        ],
        [
         "7",
         "36 - 45",
         "None",
         "1977",
         "Male",
         "White",
         "White",
         "Male",
         "2015-03-17T00:00:00Z",
         "SUICIDE - CRITICAL",
         "N",
         "Y"
        ],
        [
         "8",
         "18 - 25",
         "None",
         "1982",
         "Male",
         "Asian",
         "Black or African American",
         "Female",
         "2015-03-18T00:00:00Z",
         "ASLT - DV CRITICAL",
         "N",
         "N"
        ],
        [
         "9",
         "26 - 35",
         "None",
         "1977",
         "Male",
         "White",
         "White",
         "Male",
         "2015-03-18T00:00:00Z",
         "WARRANT - FELONY PICKUP",
         "N",
         "N"
        ],
        [
         "10",
         "46 - 55",
         "None",
         "1991",
         "Male",
         "White",
         "American Indian or Alaska Native",
         "Male",
         "2015-03-18T00:00:00Z",
         "TRAFFIC STOP - OFFICER INITIATED ONVIEW",
         "N",
         "N"
        ],
        [
         "11",
         "36 - 45",
         "None",
         "1971",
         "Male",
         "White",
         "Asian",
         "Male",
         "2015-03-18T00:00:00Z",
         "-",
         "N",
         "Y"
        ],
        [
         "12",
         "Jan-17",
         "Firearm Other",
         "1984",
         "Male",
         "White",
         "Black or African American",
         "Male",
         "2015-03-18T00:00:00Z",
         "OBS WEAPN-IP/JO-GUN,DEADLY WPN (NO THRT/ASLT/DIST)",
         "N",
         "Y"
        ],
        [
         "13",
         "36 - 45",
         "Lethal Cutting Instrument",
         "1977",
         "Male",
         "White",
         "White",
         "Male",
         "2015-03-18T00:00:00Z",
         "WARRANT - FELONY PICKUP",
         "N",
         "N"
        ],
        [
         "14",
         "26 - 35",
         "None",
         "1986",
         "Female",
         "White",
         "White",
         "Female",
         "2015-03-18T00:00:00Z",
         "UNKNOWN - COMPLAINT OF UNKNOWN NATURE",
         "N",
         "N"
        ],
        [
         "15",
         "Jan-17",
         "None",
         "1984",
         "Male",
         "White",
         "Multi-Racial",
         "Male",
         "2015-03-18T00:00:00Z",
         "OBS WEAPN-IP/JO-GUN,DEADLY WPN (NO THRT/ASLT/DIST)",
         "N",
         "Y"
        ],
        [
         "16",
         "26 - 35",
         "None",
         "1986",
         "Female",
         "White",
         "White",
         "Male",
         "2015-03-18T00:00:00Z",
         "UNKNOWN - COMPLAINT OF UNKNOWN NATURE",
         "N",
         "N"
        ],
        [
         "17",
         "18 - 25",
         "None",
         "1977",
         "Male",
         "White",
         "White",
         "Male",
         "2015-03-18T00:00:00Z",
         "WARRANT - FELONY PICKUP",
         "N",
         "N"
        ],
        [
         "18",
         "Jan-17",
         "None",
         "1985",
         "Female",
         "White",
         "Black or African American",
         "Female",
         "2015-03-18T00:00:00Z",
         "ASLT - DV CRITICAL",
         "N",
         "N"
        ],
        [
         "19",
         "36 - 45",
         "None",
         "1977",
         "Male",
         "White",
         "Black or African American",
         "Male",
         "2015-03-18T00:00:00Z",
         "WARRANT - FELONY PICKUP",
         "N",
         "N"
        ],
        [
         "20",
         "18 - 25",
         "Lethal Cutting Instrument",
         "1991",
         "Male",
         "White",
         "White",
         "Male",
         "2015-03-19T00:00:00Z",
         "BURG - OCCUPIED RESD",
         "N",
         "Y"
        ],
        [
         "21",
         "Jan-17",
         "None",
         "1982",
         "Male",
         "Asian",
         "White",
         "Female",
         "2015-03-19T00:00:00Z",
         "DISTURBANCE - DV CRITICAL",
         "N",
         "N"
        ],
        [
         "22",
         "26 - 35",
         "None",
         "1957",
         "Male",
         "Black or African American",
         "Black or African American",
         "Male",
         "2015-03-19T00:00:00Z",
         "ROBBERY - CRITICAL (INCLUDES STRONG ARM)",
         "N",
         "Y"
        ],
        [
         "23",
         "-",
         "None",
         "1965",
         "Male",
         "White",
         "-",
         "-",
         "2015-03-19T00:00:00Z",
         "-",
         "N",
         "N"
        ],
        [
         "24",
         "Jan-17",
         "None",
         "1986",
         "Female",
         "White",
         "White",
         "Female",
         "2015-03-19T00:00:00Z",
         "DISTURBANCE - DV CRITICAL",
         "N",
         "N"
        ],
        [
         "25",
         "26 - 35",
         "None",
         "1973",
         "Male",
         "White",
         "White",
         "Male",
         "2015-03-19T00:00:00Z",
         "SUSPICIOUS PERSON, VEHICLE, OR INCIDENT",
         "N",
         "N"
        ],
        [
         "26",
         "Jan-17",
         "None",
         "1982",
         "Male",
         "Asian",
         "White",
         "Female",
         "2015-03-19T00:00:00Z",
         "DISTURBANCE - DV CRITICAL",
         "N",
         "N"
        ],
        [
         "27",
         "18 - 25",
         "None",
         "1973",
         "Male",
         "White",
         "American Indian or Alaska Native",
         "Female",
         "2015-03-19T00:00:00Z",
         "-",
         "N",
         "N"
        ],
        [
         "28",
         "18 - 25",
         "None",
         "1973",
         "Male",
         "White",
         "American Indian or Alaska Native",
         "Male",
         "2015-03-19T00:00:00Z",
         "-",
         "N",
         "N"
        ],
        [
         "29",
         "18 - 25",
         "Lethal Cutting Instrument",
         "1991",
         "Male",
         "White",
         "White",
         "Male",
         "2015-03-19T00:00:00Z",
         "BURG - OCCUPIED RESD",
         "N",
         "Y"
        ],
        [
         "30",
         "18 - 25",
         "Lethal Cutting Instrument",
         "1991",
         "Male",
         "White",
         "White",
         "Male",
         "2015-03-19T00:00:00Z",
         "BURG - OCCUPIED RESD",
         "N",
         "Y"
        ],
        [
         "31",
         "18 - 25",
         "Lethal Cutting Instrument",
         "1991",
         "Male",
         "White",
         "White",
         "Male",
         "2015-03-19T00:00:00Z",
         "BURG - OCCUPIED RESD",
         "N",
         "Y"
        ],
        [
         "32",
         "36 - 45",
         "None",
         "1961",
         "Female",
         "White",
         "White",
         "Male",
         "2015-03-20T00:00:00Z",
         "THREATS (INCLS IN-PERSON/BY PHONE/IN WRITING)",
         "N",
         "N"
        ],
        [
         "33",
         "Jan-17",
         "None",
         "1976",
         "Male",
         "White",
         "Black or African American",
         "Male",
         "2015-03-20T00:00:00Z",
         "SFD - ASSIST ON CRITICAL FIRE OR MEDIC RESPONSE",
         "N",
         "N"
        ],
        [
         "34",
         "26 - 35",
         "None",
         "1983",
         "Male",
         "American Indian or Alaska Native",
         "White",
         "Male",
         "2015-03-20T00:00:00Z",
         "DISTURBANCE",
         "N",
         "N"
        ],
        [
         "35",
         "18 - 25",
         "None",
         "1981",
         "Female",
         "Black or African American",
         "White",
         "Male",
         "2015-03-20T00:00:00Z",
         "DISTURBANCE - DV - NO ASLT",
         "N",
         "N"
        ],
        [
         "36",
         "18 - 25",
         "None",
         "1981",
         "Female",
         "Black or African American",
         "White",
         "Female",
         "2015-03-20T00:00:00Z",
         "DISTURBANCE - DV - NO ASLT",
         "N",
         "N"
        ],
        [
         "37",
         "-",
         "None",
         "1961",
         "Male",
         "White",
         "White",
         "Male",
         "2015-03-21T00:00:00Z",
         "-",
         "N",
         "-"
        ],
        [
         "38",
         "26 - 35",
         "None",
         "1977",
         "Male",
         "White",
         "White",
         "Male",
         "2015-03-21T00:00:00Z",
         "-",
         "N",
         "N"
        ],
        [
         "39",
         "18 - 25",
         "None",
         "1985",
         "Male",
         "White",
         "Black or African American",
         "Male",
         "2015-03-21T00:00:00Z",
         "-",
         "N",
         "N"
        ],
        [
         "40",
         "56 and Above",
         "None",
         "1977",
         "Male",
         "White",
         "Black or African American",
         "Male",
         "2015-03-21T00:00:00Z",
         "-",
         "N",
         "N"
        ],
        [
         "41",
         "Jan-17",
         "None",
         "1981",
         "Female",
         "Black or African American",
         "Asian",
         "Female",
         "2015-03-21T00:00:00Z",
         "DISTURBANCE - DV CRITICAL",
         "N",
         "N"
        ],
        [
         "42",
         "26 - 35",
         "None",
         "1977",
         "Male",
         "White",
         "White",
         "Male",
         "2015-03-21T00:00:00Z",
         "-",
         "N",
         "N"
        ],
        [
         "43",
         "26 - 35",
         "None",
         "1977",
         "Male",
         "White",
         "White",
         "Male",
         "2015-03-21T00:00:00Z",
         "-",
         "N",
         "N"
        ],
        [
         "44",
         "26 - 35",
         "None",
         "1986",
         "Male",
         "White",
         "White",
         "Male",
         "2015-03-22T00:00:00Z",
         "THREATS (INCLS IN-PERSON/BY PHONE/IN WRITING)",
         "N",
         "Y"
        ],
        [
         "45",
         "26 - 35",
         "None",
         "1986",
         "Male",
         "White",
         "White",
         "Male",
         "2015-03-22T00:00:00Z",
         "THREATS (INCLS IN-PERSON/BY PHONE/IN WRITING)",
         "N",
         "Y"
        ],
        [
         "46",
         "36 - 45",
         "None",
         "1955",
         "Male",
         "Hispanic",
         "Black or African American",
         "Male",
         "2015-03-22T00:00:00Z",
         "THEFT OF SERVICES",
         "N",
         "N"
        ],
        [
         "47",
         "56 and Above",
         "Lethal Cutting Instrument",
         "1977",
         "Male",
         "White",
         "White",
         "Male",
         "2015-03-22T00:00:00Z",
         "SUSPICIOUS STOP - OFFICER INITIATED ONVIEW",
         "N",
         "Y"
        ],
        [
         "48",
         "36 - 45",
         "None",
         "1991",
         "Male",
         "Declined to Answer",
         "White",
         "Male",
         "2015-03-22T00:00:00Z",
         "SUSPICIOUS PERSON, VEHICLE, OR INCIDENT",
         "N",
         "Y"
        ],
        [
         "49",
         "26 - 35",
         "None",
         "1977",
         "Male",
         "White",
         "White",
         "Male",
         "2015-03-22T00:00:00Z",
         "SUSPICIOUS STOP - OFFICER INITIATED ONVIEW",
         "N",
         "N"
        ]
       ],
       "shape": {
        "columns": 11,
        "rows": 64186
       }
      },
      "text/html": [
       "<div>\n",
       "<style scoped>\n",
       "    .dataframe tbody tr th:only-of-type {\n",
       "        vertical-align: middle;\n",
       "    }\n",
       "\n",
       "    .dataframe tbody tr th {\n",
       "        vertical-align: top;\n",
       "    }\n",
       "\n",
       "    .dataframe thead th {\n",
       "        text-align: right;\n",
       "    }\n",
       "</style>\n",
       "<table border=\"1\" class=\"dataframe\">\n",
       "  <thead>\n",
       "    <tr style=\"text-align: right;\">\n",
       "      <th></th>\n",
       "      <th>Subject Age Group</th>\n",
       "      <th>Weapon Type</th>\n",
       "      <th>Officer YOB</th>\n",
       "      <th>Officer Gender</th>\n",
       "      <th>Officer Race</th>\n",
       "      <th>Subject Perceived Race</th>\n",
       "      <th>Subject Perceived Gender</th>\n",
       "      <th>Reported Date</th>\n",
       "      <th>Initial Call Type</th>\n",
       "      <th>Arrest Flag</th>\n",
       "      <th>Frisk Flag</th>\n",
       "    </tr>\n",
       "  </thead>\n",
       "  <tbody>\n",
       "    <tr>\n",
       "      <th>0</th>\n",
       "      <td>Jan-17</td>\n",
       "      <td>Lethal Cutting Instrument</td>\n",
       "      <td>1955</td>\n",
       "      <td>Male</td>\n",
       "      <td>Hispanic</td>\n",
       "      <td>Black or African American</td>\n",
       "      <td>Female</td>\n",
       "      <td>2015-03-15T00:00:00Z</td>\n",
       "      <td>-</td>\n",
       "      <td>N</td>\n",
       "      <td>Y</td>\n",
       "    </tr>\n",
       "    <tr>\n",
       "      <th>1</th>\n",
       "      <td>36 - 45</td>\n",
       "      <td>None</td>\n",
       "      <td>1977</td>\n",
       "      <td>Male</td>\n",
       "      <td>White</td>\n",
       "      <td>Multi-Racial</td>\n",
       "      <td>Male</td>\n",
       "      <td>2015-03-16T00:00:00Z</td>\n",
       "      <td>-</td>\n",
       "      <td>N</td>\n",
       "      <td>N</td>\n",
       "    </tr>\n",
       "    <tr>\n",
       "      <th>2</th>\n",
       "      <td>18 - 25</td>\n",
       "      <td>None</td>\n",
       "      <td>1984</td>\n",
       "      <td>Male</td>\n",
       "      <td>White</td>\n",
       "      <td>Black or African American</td>\n",
       "      <td>Male</td>\n",
       "      <td>2015-03-16T00:00:00Z</td>\n",
       "      <td>-</td>\n",
       "      <td>N</td>\n",
       "      <td>N</td>\n",
       "    </tr>\n",
       "    <tr>\n",
       "      <th>3</th>\n",
       "      <td>18 - 25</td>\n",
       "      <td>None</td>\n",
       "      <td>1977</td>\n",
       "      <td>Male</td>\n",
       "      <td>White</td>\n",
       "      <td>White</td>\n",
       "      <td>Male</td>\n",
       "      <td>2015-03-16T00:00:00Z</td>\n",
       "      <td>-</td>\n",
       "      <td>N</td>\n",
       "      <td>N</td>\n",
       "    </tr>\n",
       "    <tr>\n",
       "      <th>4</th>\n",
       "      <td>26 - 35</td>\n",
       "      <td>None</td>\n",
       "      <td>1984</td>\n",
       "      <td>Male</td>\n",
       "      <td>White</td>\n",
       "      <td>Black or African American</td>\n",
       "      <td>Male</td>\n",
       "      <td>2015-03-17T00:00:00Z</td>\n",
       "      <td>THREATS (INCLS IN-PERSON/BY PHONE/IN WRITING)</td>\n",
       "      <td>N</td>\n",
       "      <td>N</td>\n",
       "    </tr>\n",
       "    <tr>\n",
       "      <th>...</th>\n",
       "      <td>...</td>\n",
       "      <td>...</td>\n",
       "      <td>...</td>\n",
       "      <td>...</td>\n",
       "      <td>...</td>\n",
       "      <td>...</td>\n",
       "      <td>...</td>\n",
       "      <td>...</td>\n",
       "      <td>...</td>\n",
       "      <td>...</td>\n",
       "      <td>...</td>\n",
       "    </tr>\n",
       "    <tr>\n",
       "      <th>64181</th>\n",
       "      <td>18 - 25</td>\n",
       "      <td>-</td>\n",
       "      <td>1993</td>\n",
       "      <td>Female</td>\n",
       "      <td>White</td>\n",
       "      <td>Black or African American</td>\n",
       "      <td>Male</td>\n",
       "      <td>2025-07-18T00:00:00Z</td>\n",
       "      <td>SHOPLIFT - THEFT</td>\n",
       "      <td>Y</td>\n",
       "      <td>N</td>\n",
       "    </tr>\n",
       "    <tr>\n",
       "      <th>64182</th>\n",
       "      <td>26 - 35</td>\n",
       "      <td>-</td>\n",
       "      <td>1990</td>\n",
       "      <td>Female</td>\n",
       "      <td>White</td>\n",
       "      <td>Black or African American</td>\n",
       "      <td>Female</td>\n",
       "      <td>2025-07-18T00:00:00Z</td>\n",
       "      <td>ASLT - WITH OR W/O WPNS (NO SHOOTINGS)</td>\n",
       "      <td>N</td>\n",
       "      <td>N</td>\n",
       "    </tr>\n",
       "    <tr>\n",
       "      <th>64183</th>\n",
       "      <td>36 - 45</td>\n",
       "      <td>-</td>\n",
       "      <td>1976</td>\n",
       "      <td>Male</td>\n",
       "      <td>Asian</td>\n",
       "      <td>White</td>\n",
       "      <td>Male</td>\n",
       "      <td>2025-07-18T00:00:00Z</td>\n",
       "      <td>SUSPICIOUS PERSON, VEHICLE, OR INCIDENT</td>\n",
       "      <td>N</td>\n",
       "      <td>N</td>\n",
       "    </tr>\n",
       "    <tr>\n",
       "      <th>64184</th>\n",
       "      <td>26 - 35</td>\n",
       "      <td>-</td>\n",
       "      <td>1991</td>\n",
       "      <td>Male</td>\n",
       "      <td>Asian</td>\n",
       "      <td>Black or African American</td>\n",
       "      <td>Male</td>\n",
       "      <td>2025-07-18T00:00:00Z</td>\n",
       "      <td>PREMISE CHECK, OFFICER INITIATED ONVIEW ONLY</td>\n",
       "      <td>N</td>\n",
       "      <td>N</td>\n",
       "    </tr>\n",
       "    <tr>\n",
       "      <th>64185</th>\n",
       "      <td>18 - 25</td>\n",
       "      <td>-</td>\n",
       "      <td>1995</td>\n",
       "      <td>Male</td>\n",
       "      <td>Asian</td>\n",
       "      <td>Black or African American</td>\n",
       "      <td>Male</td>\n",
       "      <td>2025-07-18T00:00:00Z</td>\n",
       "      <td>MVC - COLLISION (ALL)</td>\n",
       "      <td>N</td>\n",
       "      <td>N</td>\n",
       "    </tr>\n",
       "  </tbody>\n",
       "</table>\n",
       "<p>64186 rows × 11 columns</p>\n",
       "</div>"
      ],
      "text/plain": [
       "      Subject Age Group                Weapon Type  Officer YOB  \\\n",
       "0                Jan-17  Lethal Cutting Instrument         1955   \n",
       "1               36 - 45                       None         1977   \n",
       "2               18 - 25                       None         1984   \n",
       "3               18 - 25                       None         1977   \n",
       "4               26 - 35                       None         1984   \n",
       "...                 ...                        ...          ...   \n",
       "64181           18 - 25                          -         1993   \n",
       "64182           26 - 35                          -         1990   \n",
       "64183           36 - 45                          -         1976   \n",
       "64184           26 - 35                          -         1991   \n",
       "64185           18 - 25                          -         1995   \n",
       "\n",
       "      Officer Gender Officer Race     Subject Perceived Race  \\\n",
       "0               Male     Hispanic  Black or African American   \n",
       "1               Male        White               Multi-Racial   \n",
       "2               Male        White  Black or African American   \n",
       "3               Male        White                      White   \n",
       "4               Male        White  Black or African American   \n",
       "...              ...          ...                        ...   \n",
       "64181         Female        White  Black or African American   \n",
       "64182         Female        White  Black or African American   \n",
       "64183           Male        Asian                      White   \n",
       "64184           Male        Asian  Black or African American   \n",
       "64185           Male        Asian  Black or African American   \n",
       "\n",
       "      Subject Perceived Gender         Reported Date  \\\n",
       "0                       Female  2015-03-15T00:00:00Z   \n",
       "1                         Male  2015-03-16T00:00:00Z   \n",
       "2                         Male  2015-03-16T00:00:00Z   \n",
       "3                         Male  2015-03-16T00:00:00Z   \n",
       "4                         Male  2015-03-17T00:00:00Z   \n",
       "...                        ...                   ...   \n",
       "64181                     Male  2025-07-18T00:00:00Z   \n",
       "64182                   Female  2025-07-18T00:00:00Z   \n",
       "64183                     Male  2025-07-18T00:00:00Z   \n",
       "64184                     Male  2025-07-18T00:00:00Z   \n",
       "64185                     Male  2025-07-18T00:00:00Z   \n",
       "\n",
       "                                   Initial Call Type Arrest Flag Frisk Flag  \n",
       "0                                                  -           N          Y  \n",
       "1                                                  -           N          N  \n",
       "2                                                  -           N          N  \n",
       "3                                                  -           N          N  \n",
       "4      THREATS (INCLS IN-PERSON/BY PHONE/IN WRITING)           N          N  \n",
       "...                                              ...         ...        ...  \n",
       "64181                               SHOPLIFT - THEFT           Y          N  \n",
       "64182         ASLT - WITH OR W/O WPNS (NO SHOOTINGS)           N          N  \n",
       "64183        SUSPICIOUS PERSON, VEHICLE, OR INCIDENT           N          N  \n",
       "64184   PREMISE CHECK, OFFICER INITIATED ONVIEW ONLY           N          N  \n",
       "64185                          MVC - COLLISION (ALL)           N          N  \n",
       "\n",
       "[64186 rows x 11 columns]"
      ]
     },
     "execution_count": 7,
     "metadata": {},
     "output_type": "execute_result"
    }
   ],
   "source": [
    "# Drop for missing values\n",
    "df.dropna()"
   ]
  },
  {
   "cell_type": "code",
   "execution_count": 8,
   "id": "e8d5b822",
   "metadata": {},
   "outputs": [],
   "source": [
    "# Drop Rows with '-' in Any Column\n",
    "df = df[~df.apply(lambda row: row.astype(str).eq('-').any(), axis=1)]"
   ]
  },
  {
   "cell_type": "markdown",
   "id": "c99f5f0f",
   "metadata": {},
   "source": [
    "\"-\" is typically used to represent missing"
   ]
  },
  {
   "cell_type": "code",
   "execution_count": 9,
   "id": "5ce157e3",
   "metadata": {},
   "outputs": [],
   "source": [
    "# Drop Rows in subject Age Group column containing  Jan-17\n",
    "df = df[~df['Subject Age Group'].isin(['-', 'Jan-17'])]"
   ]
  },
  {
   "cell_type": "markdown",
   "id": "6e1ef619",
   "metadata": {},
   "source": [
    "\"Jan-17\" appears to be a data entry error, likely meant for a date field, not an age group."
   ]
  },
  {
   "cell_type": "code",
   "execution_count": 10,
   "id": "995d665d",
   "metadata": {},
   "outputs": [
    {
     "data": {
      "text/plain": [
       "1029"
      ]
     },
     "execution_count": 10,
     "metadata": {},
     "output_type": "execute_result"
    }
   ],
   "source": [
    "# Check for duplicates\n",
    "\n",
    "df.duplicated().sum()"
   ]
  },
  {
   "cell_type": "markdown",
   "id": "df437e5e",
   "metadata": {},
   "source": [
    "1029 Missing values"
   ]
  },
  {
   "cell_type": "code",
   "execution_count": 11,
   "id": "e3ab231c",
   "metadata": {},
   "outputs": [],
   "source": [
    "# Drop duplicated rows\n",
    "df_cleaned= df.drop_duplicates()"
   ]
  },
  {
   "cell_type": "code",
   "execution_count": 12,
   "id": "37bcd7a4",
   "metadata": {},
   "outputs": [
    {
     "name": "stdout",
     "output_type": "stream",
     "text": [
      "<class 'pandas.core.frame.DataFrame'>\n",
      "Int64Index: 20726 entries, 4 to 64177\n",
      "Data columns (total 11 columns):\n",
      " #   Column                    Non-Null Count  Dtype \n",
      "---  ------                    --------------  ----- \n",
      " 0   Subject Age Group         20726 non-null  object\n",
      " 1   Weapon Type               20726 non-null  object\n",
      " 2   Officer YOB               20726 non-null  int64 \n",
      " 3   Officer Gender            20726 non-null  object\n",
      " 4   Officer Race              20726 non-null  object\n",
      " 5   Subject Perceived Race    20726 non-null  object\n",
      " 6   Subject Perceived Gender  20726 non-null  object\n",
      " 7   Reported Date             20726 non-null  object\n",
      " 8   Initial Call Type         20726 non-null  object\n",
      " 9   Arrest Flag               20726 non-null  object\n",
      " 10  Frisk Flag                20726 non-null  object\n",
      "dtypes: int64(1), object(10)\n",
      "memory usage: 1.9+ MB\n"
     ]
    }
   ],
   "source": [
    "# Checking dataframe after removing duplicates\n",
    "df_cleaned.info()"
   ]
  },
  {
   "cell_type": "code",
   "execution_count": 13,
   "id": "f34150aa",
   "metadata": {},
   "outputs": [
    {
     "name": "stdout",
     "output_type": "stream",
     "text": [
      "              Reported Date Reported_year\n",
      "4 2015-03-17 00:00:00+00:00          2015\n",
      "6 2015-03-17 00:00:00+00:00          2015\n",
      "7 2015-03-17 00:00:00+00:00          2015\n",
      "8 2015-03-18 00:00:00+00:00          2015\n",
      "9 2015-03-18 00:00:00+00:00          2015\n"
     ]
    }
   ],
   "source": [
    "# Covert reported date colum to have month and year\n",
    "df_cleaned = df_cleaned.copy()\n",
    "\n",
    "# Convert ISO datetime string to datetime object (handles the 'T' and 'Z')\n",
    "df_cleaned.loc[:, 'Reported Date'] = pd.to_datetime(df_cleaned['Reported Date'], utc=True)\n",
    "\n",
    "# Extract Month-Year in desired format (e.g., \"March 2015\")\n",
    "df_cleaned.loc[:, 'Reported_year'] = df_cleaned['Reported Date'].dt.strftime('%Y')\n",
    "\n",
    "# preview result\n",
    "print(df_cleaned[['Reported Date', 'Reported_year']].head())"
   ]
  },
  {
   "cell_type": "code",
   "execution_count": 14,
   "id": "af3a430b",
   "metadata": {},
   "outputs": [],
   "source": [
    "# Drop Reported Date Column\n",
    "df_cleaned = df_cleaned.drop(columns=['Reported Date'], errors='ignore')"
   ]
  },
  {
   "cell_type": "code",
   "execution_count": 15,
   "id": "69ff8030",
   "metadata": {},
   "outputs": [],
   "source": [
    "# Map the Arrest Flag and Frisk Flag Column\n",
    "df_cleaned['Arrest Flag'] = df_cleaned['Arrest Flag'].map({'Y': 1, 'N': 0})\n",
    "df_cleaned['Frisk Flag'] = df_cleaned['Frisk Flag'].map({'Y': 1, 'N': 0})"
   ]
  },
  {
   "cell_type": "code",
   "execution_count": 16,
   "id": "605db9c8",
   "metadata": {},
   "outputs": [],
   "source": [
    "#Downloading the cleaned data\n",
    "df_cleaned.to_csv('cleaned_terry_stop_data.csv', index=False)"
   ]
  },
  {
   "cell_type": "markdown",
   "id": "6a211d0c",
   "metadata": {},
   "source": [
    "2.2 Exploratory Data Analysis (EDA)"
   ]
  },
  {
   "cell_type": "markdown",
   "id": "62afb7c8",
   "metadata": {},
   "source": [
    "2.2.1 Univariate Analysis"
   ]
  },
  {
   "cell_type": "markdown",
   "id": "4bff494e",
   "metadata": {},
   "source": [
    "a. Analysis of Arrest By age Group"
   ]
  },
  {
   "cell_type": "code",
   "execution_count": 17,
   "id": "7d27b59a",
   "metadata": {},
   "outputs": [
    {
     "data": {
      "image/png": "[encoded data removed]",
      "text/plain": [
       "<Figure size 432x288 with 1 Axes>"
      ]
     },
     "metadata": {
      "needs_background": "light"
     },
     "output_type": "display_data"
    }
   ],
   "source": [
    "# Crosstab\n",
    "age_arrest_ct = pd.crosstab(df_cleaned['Subject Age Group'], df_cleaned['Arrest Flag'])\n",
    "\n",
    "# Stacked bar chart\n",
    "age_arrest_ct.plot(kind='bar', stacked=True)\n",
    "plt.title('Arrest Flag by Subject Age Group')\n",
    "plt.xlabel('Subject Age Group')\n",
    "plt.ylabel('Count')\n",
    "plt.legend(title='Arrest Made')\n",
    "plt.xticks(rotation=45)\n",
    "plt.tight_layout()\n",
    "plt.show()"
   ]
  },
  {
   "cell_type": "markdown",
   "id": "a52db3bf",
   "metadata": {},
   "source": [
    "i. Majority of stops and arrests were for drivers between the ages of 26-35\n"
   ]
  },
  {
   "cell_type": "markdown",
   "id": "4b6be3d0",
   "metadata": {},
   "source": [
    "b. Analysis of arrest by Race"
   ]
  },
  {
   "cell_type": "code",
   "execution_count": 18,
   "id": "95e85251",
   "metadata": {},
   "outputs": [
    {
     "name": "stdout",
     "output_type": "stream",
     "text": [
      "Chi-square statistic: 201.26833068757753\n",
      "p-value: 3.4532829606678795e-39\n"
     ]
    },
    {
     "data": {
      "image/png": "[encoded data removed]",
      "text/plain": [
       "<Figure size 432x288 with 1 Axes>"
      ]
     },
     "metadata": {
      "needs_background": "light"
     },
     "output_type": "display_data"
    }
   ],
   "source": [
    "race_arrest_ct = pd.crosstab(df_cleaned['Subject Perceived Race'], df_cleaned['Arrest Flag'])\n",
    "\n",
    "# Chi-square test\n",
    "chi2, p, dof, expected = chi2_contingency(race_arrest_ct)\n",
    "print(\"Chi-square statistic:\", chi2)\n",
    "print(\"p-value:\", p)\n",
    "\n",
    "# Optional: Stacked bar chart\n",
    "race_arrest_ct.plot(kind='bar', stacked=True)\n",
    "plt.title('Arrest Flag by Subject Perceived Race')\n",
    "plt.xlabel('Subject Perceived Race')\n",
    "plt.ylabel('Count')\n",
    "plt.legend(title='Arrest Made')\n",
    "plt.xticks(rotation=45)\n",
    "plt.tight_layout()\n",
    "plt.show()"
   ]
  },
  {
   "cell_type": "markdown",
   "id": "b4950baf",
   "metadata": {},
   "source": [
    "A chi-square statistic of 193.76 is very large, suggesting that the differences in arrest rates across racial groups are substantial, not just statistically significant."
   ]
  },
  {
   "cell_type": "markdown",
   "id": "37e5071d",
   "metadata": {},
   "source": [
    "2.2.2 Multivariate Analysis"
   ]
  },
  {
   "cell_type": "markdown",
   "id": "c3ff26ba",
   "metadata": {},
   "source": [
    "a. Analysis of arrests by Officer Gender & Subject Gender "
   ]
  },
  {
   "cell_type": "code",
   "execution_count": 19,
   "id": "d91104b8",
   "metadata": {},
   "outputs": [
    {
     "data": {
      "text/plain": [
       "<seaborn.axisgrid.FacetGrid at 0x152db671a60>"
      ]
     },
     "execution_count": 19,
     "metadata": {},
     "output_type": "execute_result"
    },
    {
     "data": {
      "image/png": "[encoded data removed]",
      "text/plain": [
       "<Figure size 1214.25x288 with 5 Axes>"
      ]
     },
     "metadata": {
      "needs_background": "light"
     },
     "output_type": "display_data"
    }
   ],
   "source": [
    "sns.catplot(\n",
    "    data=df_cleaned,\n",
    "    x='Officer Gender',\n",
    "    hue='Arrest Flag',\n",
    "    col='Subject Perceived Gender',\n",
    "    kind='count',\n",
    "    height=4,\n",
    "    aspect=0.8,\n",
    "    palette='coolwarm'\n",
    ")"
   ]
  },
  {
   "cell_type": "markdown",
   "id": "6643863d",
   "metadata": {},
   "source": [
    "i. All arrests were done by male officers"
   ]
  },
  {
   "cell_type": "markdown",
   "id": "63b9ea98",
   "metadata": {},
   "source": [
    "b. Arrest and Frisk  Rate Over Time"
   ]
  },
  {
   "cell_type": "code",
   "execution_count": 20,
   "id": "b7382d94",
   "metadata": {},
   "outputs": [
    {
     "data": {
      "text/plain": [
       "<Figure size 864x432 with 0 Axes>"
      ]
     },
     "metadata": {},
     "output_type": "display_data"
    },
    {
     "data": {
      "image/png": "[encoded data removed]",
      "text/plain": [
       "<Figure size 432x288 with 1 Axes>"
      ]
     },
     "metadata": {
      "needs_background": "light"
     },
     "output_type": "display_data"
    }
   ],
   "source": [
    "# Group and calculate mean (rate) for Arrest and Frisk\n",
    "arrest_rate = df_cleaned.groupby('Reported_year')['Arrest Flag'].mean().sort_index()\n",
    "frisk_rate = df_cleaned.groupby('Reported_year')['Frisk Flag'].mean().sort_index()\n",
    "\n",
    "# Combine into one DataFrame\n",
    "rates_df = pd.DataFrame({\n",
    "    'Arrest Rate': arrest_rate,\n",
    "    'Frisk Rate': frisk_rate\n",
    "})\n",
    "\n",
    "# Plot\n",
    "plt.figure(figsize=(12, 6))\n",
    "rates_df.plot(marker='o')\n",
    "\n",
    "plt.title('Arrest and Frisk Rates Over Time')\n",
    "plt.xlabel('Year')\n",
    "plt.ylabel('Rate')\n",
    "plt.xticks(rotation=45)\n",
    "plt.grid(True)\n",
    "plt.legend(title='Rate Type')\n",
    "plt.tight_layout()\n",
    "plt.show()\n"
   ]
  },
  {
   "cell_type": "markdown",
   "id": "0eb901f0",
   "metadata": {},
   "source": [
    "Majority of arrests took place in 2021"
   ]
  },
  {
   "cell_type": "markdown",
   "id": "30a9fc38",
   "metadata": {},
   "source": [
    "2.2.3 Correlation analysis"
   ]
  },
  {
   "cell_type": "code",
   "execution_count": 21,
   "id": "251afcb2",
   "metadata": {},
   "outputs": [
    {
     "data": {
      "image/png": "[encoded data removed]",
      "text/plain": [
       "<Figure size 1296x1080 with 2 Axes>"
      ]
     },
     "metadata": {
      "needs_background": "light"
     },
     "output_type": "display_data"
    }
   ],
   "source": [
    "# Identify numerical and categorical columns again after dropping 'Officer Squad'\n",
    "numerical_cols = df_cleaned.select_dtypes(include=['int64', 'float64']).columns\n",
    "categorical_cols = df_cleaned.select_dtypes(include='object').columns\n",
    "\n",
    "# Select categorical columns with low cardinality for one-hot encoding\n",
    "# Exclude 'Initial Call Type' (157), 'Final Call Type' (158), 'Beat' (53) due to high cardinality\n",
    "low_cardinality_categorical_cols = [\n",
    "    col for col in categorical_cols\n",
    "    if df_cleaned[col].nunique() <= 25 and col not in ['Initial Call Type', 'Final Call Type', 'Beat']\n",
    "]\n",
    "\n",
    "# Create a DataFrame with both numerical and selected low-cardinality categorical columns\n",
    "# This is the crucial fix: ensure categorical columns are present before one-hot encoding\n",
    "df_for_corr = df_cleaned[numerical_cols.tolist() + low_cardinality_categorical_cols].copy()\n",
    "\n",
    "# Perform one-hot encoding on the selected low-cardinality categorical columns\n",
    "df_encoded = pd.get_dummies(df_for_corr, columns=low_cardinality_categorical_cols, drop_first=True)\n",
    "\n",
    "# Calculate the correlation matrix\n",
    "correlation_matrix = df_encoded.corr()\n",
    "\n",
    "# Visualize the correlation matrix using a heatmap\n",
    "plt.figure(figsize=(18, 15))\n",
    "sns.heatmap(correlation_matrix, cmap='coolwarm', annot=False, fmt=\".2f\", linewidths=.5)\n",
    "plt.title('Correlation Matrix of Features', fontsize=16)\n",
    "plt.xticks(rotation=90, fontsize=8)\n",
    "plt.yticks(rotation=0, fontsize=8)\n",
    "plt.tight_layout()\n",
    "plt.savefig('correlation_matrix.png')\n",
    "plt.show()\n",
    "\n"
   ]
  },
  {
   "cell_type": "markdown",
   "id": "a7581876",
   "metadata": {},
   "source": [
    "\n",
    "Insights :\n",
    "\n",
    "Weapons are a major factor: The presence and type of weapon are the strongest indicators associated with an arrest after a Terry Stop. Specifically, the presence of a Knife/Cutting/Stabbing Instrument has the highest positive correlation, while Weapon Type_None has the strongest negative correlation.\n",
    "\n",
    "Frisk outcome matters: The Frisk Flag being set to 1 (frisk conducted) also shows a notable positive correlation with arrest, reinforcing the link between the perceived threat or discovery during a frisk and the likelihood of an arrest.\n",
    "\n",
    "Temporal trends: The Reported_year correlation suggests a potential increase in arrests over time within this dataset's period, warranting further investigation into policy changes or enforcement patterns."
   ]
  },
  {
   "cell_type": "markdown",
   "id": "a000215f",
   "metadata": {},
   "source": [
    "### 3. Model Training"
   ]
  },
  {
   "cell_type": "markdown",
   "id": "2f1f4e8f",
   "metadata": {},
   "source": [
    "3.1 Train Test Split"
   ]
  },
  {
   "cell_type": "code",
   "execution_count": 22,
   "id": "6e08737e",
   "metadata": {},
   "outputs": [],
   "source": [
    "# Define target variable (y) and features (X)\n",
    "X = df_cleaned.drop('Arrest Flag', axis=1)\n",
    "y = df_cleaned['Arrest Flag']\n",
    "\n",
    "# Identify categorical features for one-hot encoding\n",
    "categorical_features = X.select_dtypes(include='object').columns\n",
    "X = pd.get_dummies(X, columns=categorical_features, drop_first=True)\n",
    "\n",
    "\n",
    "# Split the data into training and testing sets\n",
    "X_train, X_test, y_train, y_test = train_test_split(X, y, test_size=0.3, random_state=42, stratify=y)\n",
    "\n",
    "\n",
    "\n"
   ]
  },
  {
   "cell_type": "markdown",
   "id": "f03886fa",
   "metadata": {},
   "source": [
    "3.2 SMOTE for Class Imbalance\n",
    "\n",
    "\n",
    "The  target variable  (Arrest Flag) is imbalanced.\n",
    "\n",
    "The  model may be biased toward predicting the majority class (no arrest).\n",
    "SMOTE solves this by synthetically generating new samples for the minority class (class 1)."
   ]
  },
  {
   "cell_type": "code",
   "execution_count": 23,
   "id": "dc18b3e9",
   "metadata": {},
   "outputs": [
    {
     "name": "stdout",
     "output_type": "stream",
     "text": [
      "Before SMOTE: Counter({0: 13898, 1: 610})\n",
      "After SMOTE: Counter({0: 13898, 1: 13898})\n"
     ]
    }
   ],
   "source": [
    "smote = SMOTE(random_state=42)\n",
    "\n",
    "# Apply to training data only\n",
    "X_train_resampled, y_train_resampled = smote.fit_resample(X_train, y_train)\n",
    "\n",
    "# Optional: Print class distribution after resampling\n",
    "from collections import Counter\n",
    "print(\"Before SMOTE:\", Counter(y_train))\n",
    "print(\"After SMOTE:\", Counter(y_train_resampled))"
   ]
  },
  {
   "cell_type": "markdown",
   "id": "d7a650ae",
   "metadata": {},
   "source": [
    "3.3 Standardization\n",
    "\n",
    "\n",
    "To ensure that each feature contributes equally to the model."
   ]
  },
  {
   "cell_type": "code",
   "execution_count": 24,
   "id": "922a4ac3",
   "metadata": {},
   "outputs": [],
   "source": [
    "# Separate numeric and categorical columns\n",
    "categorical_columns = X.select_dtypes(include='uint8').columns  # One-hot encoded\n",
    "numerical_columns = X.drop(categorical_columns, axis=1).columns\n",
    "\n",
    "# Initialize StandardScaler\n",
    "scaler = StandardScaler()\n",
    "\n",
    "# fit only numerical columns\n",
    "X_train_scaled = scaler.fit_transform(X_train[numerical_columns])\n",
    "X_train_scaled_resampled = scaler.transform(X_train_resampled[numerical_columns])\n",
    "X_test_scaled = scaler.transform(X_test[numerical_columns])\n",
    "\n",
    "# Combine the scaled numerical columns and categoricalcolumns into one dataframe\n",
    "X_train_scaled = pd.concat([pd.DataFrame(X_train_scaled, columns=numerical_columns), X_train[categorical_columns].reset_index(drop=True)], axis=1)\n",
    "X_train_scaled_resampled = pd.concat([pd.DataFrame(X_train_scaled_resampled, columns=numerical_columns), X_train_resampled[categorical_columns].reset_index(drop=True)], axis=1)\n",
    "X_test_scaled = pd.concat([pd.DataFrame(X_test_scaled, columns=numerical_columns), X_test[categorical_columns].reset_index(drop=True)], axis=1)"
   ]
  },
  {
   "cell_type": "markdown",
   "id": "d742fd01",
   "metadata": {},
   "source": [
    "3.4  Modelling and Evaluation\n",
    "\n",
    "I will be comparing two models here:\n",
    "\n",
    "1. Logistic regression model.\n",
    "\n",
    "Since it is well-suited for binary classification problems like the one we are facing of predicting arrest or no arrest.\n",
    "\n",
    "2. Random forest classifier.\n",
    "\n",
    "These models' performance will then be evaluated by use of classification metrics such as roc-auc score, precision, recall and F1 score."
   ]
  },
  {
   "cell_type": "markdown",
   "id": "57804a58",
   "metadata": {},
   "source": [
    "#### 1. Logistic Regression Model"
   ]
  },
  {
   "cell_type": "code",
   "execution_count": 25,
   "id": "ee4b1c44",
   "metadata": {},
   "outputs": [],
   "source": [
    "# Initialize logistic regression\n",
    "lr = LogisticRegression(max_iter=1000,random_state=42)\n",
    "\n",
    "# Train the model on the resampled dataset\n",
    "lr.fit(X_train_scaled_resampled, y_train_resampled)\n",
    "\n",
    "# Make predictions\n",
    "y_pred_lr = lr.predict(X_test_scaled)\n",
    "y_pred_proba_lr = lr.predict_proba(X_test_scaled)[:, 1]"
   ]
  },
  {
   "cell_type": "markdown",
   "id": "96556e44",
   "metadata": {},
   "source": [
    "Model Evaluation"
   ]
  },
  {
   "cell_type": "code",
   "execution_count": 26,
   "id": "f1b57ba9",
   "metadata": {},
   "outputs": [
    {
     "name": "stdout",
     "output_type": "stream",
     "text": [
      "Logistic Regression Classification Report:\n",
      "              precision    recall  f1-score   support\n",
      "\n",
      "           0       0.99      0.96      0.97      5957\n",
      "           1       0.45      0.73      0.56       261\n",
      "\n",
      "    accuracy                           0.95      6218\n",
      "   macro avg       0.72      0.85      0.77      6218\n",
      "weighted avg       0.97      0.95      0.96      6218\n",
      "\n",
      "Logistic Regression ROC-AUC Score: 0.9734\n"
     ]
    }
   ],
   "source": [
    "print(\"Logistic Regression Classification Report:\")\n",
    "print(classification_report(y_test, y_pred_lr))\n",
    "\n",
    "roc_auc_lr = roc_auc_score(y_test, y_pred_proba_lr)\n",
    "print(f\"Logistic Regression ROC-AUC Score: {roc_auc_lr:.4f}\")"
   ]
  },
  {
   "cell_type": "markdown",
   "id": "b548501b",
   "metadata": {},
   "source": [
    "ROC Curve"
   ]
  },
  {
   "cell_type": "code",
   "execution_count": 27,
   "id": "8525fa0c",
   "metadata": {},
   "outputs": [
    {
     "data": {
      "image/png": "[encoded data removed]",
      "text/plain": [
       "<Figure size 576x432 with 1 Axes>"
      ]
     },
     "metadata": {
      "needs_background": "light"
     },
     "output_type": "display_data"
    }
   ],
   "source": [
    "fpr_lr, tpr_lr, _ = roc_curve(y_test, y_pred_proba_lr)\n",
    "\n",
    "plt.figure(figsize=(8, 6))\n",
    "plt.plot(fpr_lr, tpr_lr, label=f\"Logistic Regression (AUC = {roc_auc_lr:.4f})\", color=\"blue\")\n",
    "plt.plot([0, 1], [0, 1], color=\"gray\", linestyle=\"--\")\n",
    "plt.xlabel(\"False Positive Rate\")\n",
    "plt.ylabel(\"True Positive Rate\")\n",
    "plt.title(\"ROC Curve - Logistic Regression\")\n",
    "\n",
    "plt.legend()\n",
    "plt.show()"
   ]
  },
  {
   "cell_type": "markdown",
   "id": "a761d790",
   "metadata": {},
   "source": [
    "####  2. Random Forest Classifier"
   ]
  },
  {
   "cell_type": "code",
   "execution_count": 28,
   "id": "bd03c83c",
   "metadata": {},
   "outputs": [
    {
     "data": {
      "text/plain": [
       "RandomForestClassifier(class_weight='balanced', n_estimators=200,\n",
       "                       random_state=42)"
      ]
     },
     "execution_count": 28,
     "metadata": {},
     "output_type": "execute_result"
    }
   ],
   "source": [
    "\n",
    "# Initialize and train a RandomForestClassifier model\n",
    "rf_model = RandomForestClassifier(n_estimators=200, random_state=42, class_weight='balanced')\n",
    "rf_model.fit(X_train_scaled_resampled, y_train_resampled)"
   ]
  },
  {
   "cell_type": "markdown",
   "id": "70342ca2",
   "metadata": {},
   "source": [
    "Model evaluation"
   ]
  },
  {
   "cell_type": "code",
   "execution_count": 29,
   "id": "7a0e2317",
   "metadata": {},
   "outputs": [
    {
     "name": "stdout",
     "output_type": "stream",
     "text": [
      "Accuracy: 0.9503\n",
      "ROC-AUC: 0.9741\n",
      "\n",
      "Classification Report:\n",
      "              precision    recall  f1-score   support\n",
      "\n",
      "           0       0.99      0.96      0.97      5957\n",
      "           1       0.45      0.80      0.57       261\n",
      "\n",
      "    accuracy                           0.95      6218\n",
      "   macro avg       0.72      0.88      0.77      6218\n",
      "weighted avg       0.97      0.95      0.96      6218\n",
      "\n"
     ]
    }
   ],
   "source": [
    "\n",
    "y_pred_rf = rf_model.predict(X_test_scaled)\n",
    "y_pred_proba_rf = rf_model.predict_proba(X_test_scaled)[:, 1]\n",
    "\n",
    "# Calculate and print Accuracy\n",
    "rf_accuracy = accuracy_score(y_test, y_pred_rf)\n",
    "print(f\"Accuracy: {rf_accuracy:.4f}\")\n",
    "\n",
    "# Calculate and print ROC-AUC\n",
    "rf_roc_auc = roc_auc_score(y_test, y_pred_proba_rf)\n",
    "print(f\"ROC-AUC: {rf_roc_auc:.4f}\")\n",
    "print(\"\\nClassification Report:\")\n",
    "print(classification_report(y_test, y_pred_rf))\n",
    "\n"
   ]
  },
  {
   "cell_type": "code",
   "execution_count": 30,
   "id": "11975cb7",
   "metadata": {},
   "outputs": [
    {
     "data": {
      "image/png": "[encoded data removed]",
      "text/plain": [
       "<Figure size 576x432 with 1 Axes>"
      ]
     },
     "metadata": {
      "needs_background": "light"
     },
     "output_type": "display_data"
    }
   ],
   "source": [
    "# Get the False Positive Rate, True Positive Rate, and thresholds\n",
    "fpr_rf, tpr_rf, thresholds_rf = roc_curve(y_test, y_pred_proba_rf)\n",
    "\n",
    "# Plot the ROC Curve\n",
    "plt.figure(figsize=(8, 6))\n",
    "plt.plot(fpr_rf, tpr_rf, label=f\"Random Forest (AUC = {rf_roc_auc:.4f})\", color='darkgreen', linewidth=2)\n",
    "plt.plot([0, 1], [0, 1], 'k--', label=\"No Skill (AUC = 0.5)\")  # Diagonal reference line\n",
    "plt.xlabel(\"False Positive Rate\")\n",
    "plt.ylabel(\"True Positive Rate\")\n",
    "plt.title(\"ROC Curve - Random Forest Classifier\")\n",
    "plt.legend(loc='lower right')\n",
    "plt.grid(True)\n",
    "plt.tight_layout()\n",
    "plt.show()\n"
   ]
  },
  {
   "cell_type": "markdown",
   "id": "70d28d91",
   "metadata": {},
   "source": [
    "### **Interpretation of Results**:\n",
    "\n",
    "High Accuracy and ROC-AUC: The overall accuracy of 95 and an ROC-AUC score of 0.9741 indicate that the model performs very well in distinguishing between arrest and no-arrest scenarios. This is further supported by the ROC curve (shown above), which is significantly above the diagonal line, suggesting good discriminative power.\n",
    "\n",
    "Performance for 'No Arrest' (Class 0): The model shows excellent performance for predicting 'no arrest' outcomes, with high precision (0.99, recall (0.96), and F1-score (0.97). This is expected due to the large number of samples in this class.\n",
    "\n",
    "Performance for 'Arrest' (Class 1): While the model's overall performance is strong, the precision (0.45), recall (0.80), and F1-score (0.57) for predicting 'arrest' outcomes (Class 1) are lower. This means that when the model predicts an arrest, it is correct about 45 of the time (precision), and it correctly identifies 80% of all actual arrests (recall). The F1-score, which balances precision and recall, is 0.57. "
   ]
  },
  {
   "cell_type": "markdown",
   "id": "dd4a6107",
   "metadata": {},
   "source": [
    "###  Comparison between the logistic regression model and the random forest classifier"
   ]
  },
  {
   "cell_type": "markdown",
   "id": "2df84771",
   "metadata": {},
   "source": [
    "### 1. Classification report\n",
    "\n",
    "1. **Overall Accuracy**:\n",
    "\n",
    "Both models show almost identical overall accuracy (around 95%). T Since the majority class (Class 0) makes up over 95% of your dataset, a model that performs well on Class 0 will naturally have a high overall accuracy, even if it struggles with Class 1. This metric alone is not sufficient to judge performance on imbalanced datasets.\n",
    "\n",
    "2. **ROC-AUC Score**:\n",
    "\n",
    "Random Forest (0.9741) has a marginally higher ROC-AUC than Logistic Regression (0.9734).\n",
    "\n",
    "Both scores are exceptionally high, indicating that both models are very good at distinguishing between the positive and negative classes based on their predicted probabilities.\n",
    "\n",
    "3. **Performance on Class 0 (Majority Class - No Arrest)**:\n",
    "\n",
    "Both models perform identically and excellently on the majority class. They both achieve 0.99 precision, 0.96 recall, and 0.97 F1-score. This means they are very good at correctly identifying instances where no arrest occurs and rarely misclassify a non-arrest as an arrest.\n"
   ]
  },
  {
   "cell_type": "markdown",
   "id": "72d934e4",
   "metadata": {},
   "source": [
    "### 2. ROC Curve"
   ]
  },
  {
   "cell_type": "code",
   "execution_count": 31,
   "id": "3549f074",
   "metadata": {},
   "outputs": [
    {
     "data": {
      "image/png": "[encoded data removed]",
      "text/plain": [
       "<Figure size 576x432 with 1 Axes>"
      ]
     },
     "metadata": {
      "needs_background": "light"
     },
     "output_type": "display_data"
    }
   ],
   "source": [
    "\n",
    "# Compute ROC curve values\n",
    "fpr_lr, tpr_lr, _ = roc_curve(y_test, y_pred_proba_lr)  # Logistic Regression\n",
    "fpr_rf, tpr_rf, _ = roc_curve(y_test, y_pred_proba_rf)  # Random Forest\n",
    "\n",
    "# Compute AUCs\n",
    "auc_lr = roc_auc_score(y_test, y_pred_proba_lr)\n",
    "auc_rf = roc_auc_score(y_test, y_pred_proba_rf)\n",
    "\n",
    "# Plot both ROC curves\n",
    "plt.figure(figsize=(8, 6))\n",
    "plt.plot(fpr_lr, tpr_lr, label=f\"Logistic Regression (AUC = {auc_lr:.4f})\", color='navy', linewidth=2)\n",
    "plt.plot(fpr_rf, tpr_rf, label=f\"Random Forest (AUC = {auc_rf:.4f})\", color='darkgreen', linewidth=2)\n",
    "plt.plot([0, 1], [0, 1], 'k--', label='No Skill (AUC = 0.5)')  # Diagonal line\n",
    "\n",
    "# Chart formatting\n",
    "plt.xlabel(\"False Positive Rate\")\n",
    "plt.ylabel(\"True Positive Rate\")\n",
    "plt.title(\"ROC Curve Comparison\")\n",
    "plt.legend(loc=\"lower right\")\n",
    "plt.grid(True)\n",
    "plt.tight_layout()\n",
    "plt.show()\n"
   ]
  },
  {
   "cell_type": "markdown",
   "id": "5c8d4259",
   "metadata": {},
   "source": [
    "### Feature Importance Analysis"
   ]
  },
  {
   "cell_type": "code",
   "execution_count": 32,
   "id": "fbe1e998",
   "metadata": {},
   "outputs": [
    {
     "data": {
      "image/png": "[encoded data removed]",
      "text/plain": [
       "<Figure size 720x432 with 1 Axes>"
      ]
     },
     "metadata": {
      "needs_background": "light"
     },
     "output_type": "display_data"
    }
   ],
   "source": [
    "# Get feature importances from the trained Random Forest model\n",
    "importances = rf_model.feature_importances_\n",
    "\n",
    "# Create a DataFrame for visualization\n",
    "feature_importance_rf = pd.DataFrame({\n",
    "    'Feature': X_train_scaled_resampled.columns,\n",
    "    'Importance': importances\n",
    "}).sort_values(by='Importance', ascending=False)\n",
    "\n",
    "# Plot top N features\n",
    "top_n = 15\n",
    "plt.figure(figsize=(10, 6))\n",
    "sns.barplot(x='Importance', y='Feature', data=feature_importance_rf.head(top_n), palette='viridis')\n",
    "plt.title(f\"Top {top_n} Important Features - Random Forest\")\n",
    "plt.xlabel(\"Feature Importance\")\n",
    "plt.ylabel(\"Feature\")\n",
    "plt.tight_layout()\n",
    "plt.show()"
   ]
  },
  {
   "cell_type": "markdown",
   "id": "87d0fd45",
   "metadata": {},
   "source": [
    "\n",
    "\n",
    "The chart above displays the top 15 most important features that influenced the model's predictions.\n",
    "\n",
    "**Weapon Type (None)**: This was the strongest predictor of arrest likelihood. It suggests that the absence of a weapon is strongly associated with decisions not to arrest, possibly indicating a lower perceived threat.\n",
    "\n",
    "**Frisk Flag**: The presence of a frisk is another strong signal, likely correlated with heightened suspicion or safety concerns during the stop.\n",
    "\n",
    "These findings imply that arrest decisions may be strongly driven by perceived risk indicators like weapon presence or the need to frisk, highlighting the importance of training and policy evaluations focused on these factors.\n"
   ]
  },
  {
   "cell_type": "markdown",
   "id": "e18337e3",
   "metadata": {},
   "source": [
    "### Conclusion"
   ]
  },
  {
   "cell_type": "markdown",
   "id": "94ed15d0",
   "metadata": {},
   "source": [
    "**Logistic Regression** demonstrates high performance on the majority class (non-arrest), with precision and recall values of 0.99 and 0.96 respectively. However, it underperforms on the minority class (arrest), yielding a precision of 0.45 and recall of 0.73. Despite its strong ROC-AUC score of 0.9734, the model struggles with class imbalance, making it less effective at correctly identifying positive arrest instances. Nonetheless, its simplicity, interpretability, and computational efficiency make it suitable for baseline modeling or when model transparency is required.\n",
    "\n",
    "\n",
    "**Random Forest** provides a more balanced classification capability across both classes. It achieves similar overall accuracy (95.03%) and a slightly higher ROC-AUC score (0.9741), while improving recall for the arrest class to 0.80. This indicates better sensitivity to the minority class. Random Forest is more robust in handling imbalanced datasets and capturing complex feature interactions, making it a better fit when maximizing recall and overall detection of arrest outcomes is a priority.\n",
    "\n"
   ]
  },
  {
   "cell_type": "markdown",
   "id": "75c12fcc",
   "metadata": {},
   "source": [
    "**Recommendations**\n",
    "\n",
    "For better performance on both classes, Random Forest is the better model, especially if your goal is to achieve a more robust performance for arrest while handling class imbalance. The higher ROC-AUC score and overall classification report indicate its suitability for this task.\n",
    "\n",
    "If interpretability and computational efficiency are key, Logistic Regression might be preferred, but additional techniques (like tuning the model further, or applying SMOTE) could help improve its performance.\n",
    "\n",
    "**NOTE**: However, for arrest prediction in this case, Random Forest should be prioritized, especially when dealing with imbalanced data.\n",
    "\n",
    "As shown in feature importance analysis:\n",
    "\n",
    "**Weapon Type (None)**: This was the strongest predictor of arrest likelihood. It suggests that the absence of a weapon is strongly associated with decisions not to arrest, possibly indicating a lower perceived threat.\n",
    "\n",
    "**Frisk Flag**: The presence of a frisk is another strong signal, likely correlated with heightened suspicion or safety concerns during the stop.\n",
    "\n",
    "These findings imply that arrest decisions may be strongly driven by perceived risk indicators like weapon presence or the need to frisk, highlighting the importance of training and policy evaluations focused on these factors."
   ]
  }
 ],
 "metadata": {
  "kernelspec": {
   "display_name": "learn-env",
   "language": "python",
   "name": "python3"
  },
  "language_info": {
   "codemirror_mode": {
    "name": "ipython",
    "version": 3
   },
   "file_extension": ".py",
   "mimetype": "text/x-python",
   "name": "python",
   "nbconvert_exporter": "python",
   "pygments_lexer": "ipython3",
   "version": "3.8.5"
  }
 },
 "nbformat": 4,
 "nbformat_minor": 5
}
